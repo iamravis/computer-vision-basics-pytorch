{
 "cells": [
  {
   "cell_type": "code",
   "execution_count": 7,
   "metadata": {},
   "outputs": [
    {
     "name": "stdout",
     "output_type": "stream",
     "text": [
      "PyTorch Version :  2.0.0\n",
      "Torchvision version:  0.15.1\n",
      "Using device mps\n"
     ]
    }
   ],
   "source": [
    "#### import required libraries\n",
    "\n",
    "import pandas as pd\n",
    "import numpy as np\n",
    "import matplotlib.pyplot as plt\n",
    "\n",
    "#### PyTorch\n",
    "import torch\n",
    "import torchvision\n",
    "from torchvision import datasets, transforms\n",
    "from torch.utils.data import DataLoader\n",
    "\n",
    "\n",
    "### pytorch and torchvision version\n",
    "print(\"PyTorch Version : \", torch.__version__)\n",
    "print(\"Torchvision version: \",torchvision.__version__)\n",
    "\n",
    "\n",
    "#### check if Metal Performance Shader is available (for Apple macbooks gpu based on ARM)\n",
    "device = 'mps' if torch.backends.mps.is_available() else \"cpu\"\n",
    "print(f\"Using device {device}\")\n",
    "    "
   ]
  },
  {
   "cell_type": "code",
   "execution_count": 5,
   "metadata": {},
   "outputs": [
    {
     "name": "stdout",
     "output_type": "stream",
     "text": [
      "Didn't find the directory. Creating directory data/pizza_steak_sushi\n",
      "Downloading data ...\n",
      "Unzipping data ...\n",
      "Unzipped, deleting the zipped file\n"
     ]
    }
   ],
   "source": [
    "import os\n",
    "import zipfile\n",
    "\n",
    "from pathlib import Path\n",
    "import requests\n",
    "\n",
    "data_path = Path(\"data/\")\n",
    "image_path = Path(data_path/\"pizza_steak_sushi\")\n",
    "\n",
    "\n",
    "if image_path.is_dir():\n",
    "    print(f\"{image_path} directory exists\")\n",
    "else:\n",
    "    print(f\"Didn't find the directory. Creating directory {image_path}\")\n",
    "    image_path.mkdir(parents=True, exist_ok=True)\n",
    "\n",
    "    ## download data\n",
    "\n",
    "    with open(data_path/\"pizza_steak_sushi.zip\", \"wb\") as f:\n",
    "        request = requests.get(\"https://github.com/mrdbourke/pytorch-deep-learning/raw/main/data/pizza_steak_sushi.zip\")\n",
    "        print(\"Downloading data ...\")\n",
    "        f.write(request.content)\n",
    "    with zipfile.ZipFile(data_path/\"pizza_steak_sushi.zip\",\"r\") as zip_ref:\n",
    "        print(\"Unzipping data ...\")\n",
    "        zip_ref.extractall(image_path)\n",
    "        \n",
    "\n",
    "    os.remove(data_path/\"pizza_steak_sushi.zip\")\n",
    "    print(\"Unzipped, deleting the zipped file\")"
   ]
  },
  {
   "cell_type": "code",
   "execution_count": 6,
   "metadata": {},
   "outputs": [],
   "source": [
    "## Setting train and test path\n",
    "\n",
    "train_dir = image_path/\"train\"\n",
    "test_dir = image_path/\"test\"\n",
    "\n",
    "\n",
    "## create a transforms pipeline manually\n",
    "\n",
    "manual_transforms = transforms.Compose([\n",
    "    transforms.Resize((224,224)),\n",
    "    transforms.ToTensor(),\n",
    "    transforms.Normalize(mean=[0.485, 0.456, 0.406], \n",
    "                         std=[0.229, 0.224, 0.225])\n",
    "\n",
    "])\n",
    "\n",
    "## Creating training and testing dataloaders \n",
    "\n",
    "train_dataloader, test_dataloader, class_names = data_setup.\n"
   ]
  },
  {
   "cell_type": "code",
   "execution_count": null,
   "metadata": {},
   "outputs": [],
   "source": []
  },
  {
   "cell_type": "code",
   "execution_count": null,
   "metadata": {},
   "outputs": [],
   "source": []
  },
  {
   "cell_type": "code",
   "execution_count": null,
   "metadata": {},
   "outputs": [],
   "source": []
  },
  {
   "cell_type": "code",
   "execution_count": null,
   "metadata": {},
   "outputs": [],
   "source": []
  },
  {
   "cell_type": "code",
   "execution_count": null,
   "metadata": {},
   "outputs": [],
   "source": []
  },
  {
   "cell_type": "code",
   "execution_count": null,
   "metadata": {},
   "outputs": [],
   "source": []
  },
  {
   "cell_type": "code",
   "execution_count": null,
   "metadata": {},
   "outputs": [],
   "source": []
  },
  {
   "cell_type": "code",
   "execution_count": null,
   "metadata": {},
   "outputs": [],
   "source": []
  },
  {
   "cell_type": "code",
   "execution_count": null,
   "metadata": {},
   "outputs": [],
   "source": []
  },
  {
   "cell_type": "code",
   "execution_count": null,
   "metadata": {},
   "outputs": [],
   "source": []
  }
 ],
 "metadata": {
  "kernelspec": {
   "display_name": "Python 3",
   "language": "python",
   "name": "python3"
  },
  "language_info": {
   "codemirror_mode": {
    "name": "ipython",
    "version": 3
   },
   "file_extension": ".py",
   "mimetype": "text/x-python",
   "name": "python",
   "nbconvert_exporter": "python",
   "pygments_lexer": "ipython3",
   "version": "3.8.16"
  },
  "orig_nbformat": 4,
  "vscode": {
   "interpreter": {
    "hash": "226cb0cb2c4607f2d06bb7ba6833f76a0b20a26cff8304a0ae9123732aeaa111"
   }
  }
 },
 "nbformat": 4,
 "nbformat_minor": 2
}
